{
 "cells": [
  {
   "cell_type": "code",
   "execution_count": null,
   "metadata": {},
   "outputs": [],
   "source": [
    "import cv2 as cv\n",
    "\n",
    "import numpy as np\n",
    "import pandas as pd\n",
    "\n",
    "import matplotlib.pyplot as plt\n",
    "import matplotlib.collections as mc\n",
    "import matplotlib.patches as mp\n",
    "\n",
    "from copy import deepcopy\n",
    "from dataclasses import dataclass\n",
    "from enum import Enum\n",
    "from functools import total_ordering\n",
    "from numpy.random import default_rng\n",
    "from queue import Queue, PriorityQueue\n",
    "\n",
    "from typing import *\n",
    "from numpy.typing import NDArray\n",
    "\n",
    "rng = default_rng(5843)"
   ]
  },
  {
   "cell_type": "markdown",
   "metadata": {},
   "source": [
    "## Utilities"
   ]
  },
  {
   "cell_type": "code",
   "execution_count": null,
   "metadata": {},
   "outputs": [],
   "source": [
    "def fix_color(src: NDArray) -> NDArray:\n",
    "    return cv.cvtColor(src, cv.COLOR_BGR2RGB)"
   ]
  },
  {
   "cell_type": "code",
   "execution_count": null,
   "metadata": {},
   "outputs": [],
   "source": [
    "def plot_image(\n",
    "        img: NDArray, cmap: str | None = None, *,\n",
    "        title: str | None = None, format: int = cv.COLOR_BGR2RGB\n",
    "    ):\n",
    "\n",
    "    ax: plt.Axes\n",
    "    _, ax = plt.subplots(dpi=140)\n",
    "    \n",
    "    ax.set(xticks=[], yticks=[])\n",
    "\n",
    "    if title is not None:\n",
    "        ax.set_title(title)\n",
    "\n",
    "    if cmap is None:\n",
    "        ax.imshow(cv.cvtColor(img, format))\n",
    "    else:\n",
    "        ax.imshow(img, cmap, vmin=0, vmax=255)"
   ]
  },
  {
   "cell_type": "code",
   "execution_count": null,
   "metadata": {},
   "outputs": [],
   "source": [
    "def plot_images(images: Sequence[tuple[str, NDArray] | None], columns: int = 3, *,\n",
    "                cmap: str | None = None, title: str | None = None, format = cv.COLOR_BGR2RGB,\n",
    "                cell_size: tuple[float, float]=(4., 3.), dpi=120) -> None:\n",
    "    \n",
    "    images = list(images)\n",
    "    rows = (len(images) + columns) // columns\n",
    "    fig, axs = plt.subplots(rows, columns, figsize=(columns * cell_size[0], rows * cell_size[1]),\n",
    "                            layout='constrained', dpi=dpi)\n",
    "\n",
    "    if title is not None:\n",
    "        fig.suptitle(title)\n",
    "    \n",
    "    ax: plt.Axes\n",
    "    for ax in axs.flat:\n",
    "        ax.set_visible(False)\n",
    "    \n",
    "    for i, entry in enumerate(images):\n",
    "        if entry is None: continue\n",
    "        subtitle, img = entry\n",
    "\n",
    "        ax: plt.Axes = axs.flat[i]\n",
    "        ax.set(xticks=[], yticks=[], title=subtitle, visible=True)\n",
    "        if img.shape.count == 2:\n",
    "            ax.imshow(img, cmap=cmap, vmin=0, vmax=255)\n",
    "        else:\n",
    "            ax.imshow(cv.cvtColor(img, format))"
   ]
  },
  {
   "cell_type": "markdown",
   "metadata": {},
   "source": [
    "## Detect Grid Shape"
   ]
  },
  {
   "cell_type": "code",
   "execution_count": null,
   "metadata": {},
   "outputs": [],
   "source": [
    "image_name = 'uni-1_05x04_shuffled_948135.jpg'\n",
    "image = cv.imread('../images/' + image_name)\n",
    "plot_image(image, title=image_name)"
   ]
  },
  {
   "cell_type": "code",
   "execution_count": null,
   "metadata": {},
   "outputs": [],
   "source": [
    "image_gray = cv.cvtColor(image, cv.COLOR_BGR2GRAY)\n",
    "plot_image(image_gray, 'gray', title=f'{image_name} in Grayscale')"
   ]
  },
  {
   "cell_type": "code",
   "execution_count": null,
   "metadata": {},
   "outputs": [],
   "source": [
    "sobel_horizontal = cv.Sobel(image_gray, cv.CV_32F, 1, 0)\n",
    "plot_image(np.abs(sobel_horizontal), 'magma', title=f'Horizontal Sobel of {image_name}')"
   ]
  },
  {
   "cell_type": "code",
   "execution_count": null,
   "metadata": {},
   "outputs": [],
   "source": [
    "sobel_vertical = cv.Sobel(image_gray, cv.CV_32F, 0, 1)\n",
    "plot_image(np.abs(sobel_vertical), 'magma', title=f'Vertical Sobel of {image_name}')"
   ]
  },
  {
   "cell_type": "code",
   "execution_count": null,
   "metadata": {},
   "outputs": [],
   "source": [
    "def plot(y: NDArray, title: str | None = None):\n",
    "    fig, ax = plt.subplots(figsize=(18, 5))\n",
    "    ax: plt.Axes\n",
    "\n",
    "    length = y.shape[0]\n",
    "    mean = np.average(y)\n",
    "    variance = np.average(np.square(mean - y))\n",
    "    std = np.sqrt(variance)\n",
    "\n",
    "    ax.set(xlim=[0, length], title=title)\n",
    "    \n",
    "    ax.plot(y, label='y')\n",
    "    ax.axhline(mean+std*4, c='C4', label=r'$\\mu + 4\\sigma$')\n",
    "    ax.axhline(mean+std*2, c='C3', label=r'$\\mu + 2\\sigma$')\n",
    "    ax.axhline(mean+std, c='C2', label=r'$\\mu + \\sigma$')\n",
    "    ax.axhline(mean, c='C1', label=r'$\\mu$')\n",
    "\n",
    "    ax.grid(ls=':')\n",
    "    ax.legend()\n",
    "\n",
    "average_horizontal = np.average(np.abs(sobel_horizontal), axis=0)\n",
    "plot(average_horizontal, title=f'Average Horizontal Sobel of {image_name}')"
   ]
  },
  {
   "cell_type": "code",
   "execution_count": null,
   "metadata": {},
   "outputs": [],
   "source": [
    "average_vertical = np.average(np.abs(sobel_vertical), axis=1)\n",
    "plot(average_vertical, title=f'Average Vertical Sobel of {image_name}')"
   ]
  },
  {
   "cell_type": "code",
   "execution_count": null,
   "metadata": {},
   "outputs": [],
   "source": [
    "plot(np.diff(average_horizontal), title=f'Derivative of Average Horizontal Sobel of {image_name}')"
   ]
  },
  {
   "cell_type": "code",
   "execution_count": null,
   "metadata": {},
   "outputs": [],
   "source": [
    "plot(np.diff(average_vertical), title=f'Derivative of Average Vertical Sobel of {image_name}')"
   ]
  },
  {
   "cell_type": "code",
   "execution_count": null,
   "metadata": {},
   "outputs": [],
   "source": [
    "def calc_std(y: NDArray) -> float:\n",
    "    mean = np.average(y)\n",
    "    variance = np.average(np.square(y - mean))\n",
    "    return np.sqrt(variance)\n",
    "\n",
    "threshold = 3\n",
    "\n",
    "edges_horizontal = cv.threshold(\n",
    "    np.diff(average_horizontal), calc_std(average_horizontal) * threshold,\n",
    "    1, cv.THRESH_BINARY,\n",
    ")[1]\n",
    "\n",
    "edges_vertical = cv.threshold(\n",
    "    np.diff(average_vertical), calc_std(average_vertical) * threshold,\n",
    "    1, cv.THRESH_BINARY,\n",
    ")[1]"
   ]
  },
  {
   "cell_type": "code",
   "execution_count": null,
   "metadata": {},
   "outputs": [],
   "source": [
    "longest_gap = 50\n",
    "edges_horizontal = cv.morphologyEx(edges_horizontal, cv.MORPH_CLOSE, np.ones(longest_gap))\n",
    "edges_vertical = cv.morphologyEx(edges_vertical, cv.MORPH_CLOSE, np.ones(longest_gap))"
   ]
  },
  {
   "cell_type": "code",
   "execution_count": null,
   "metadata": {},
   "outputs": [],
   "source": [
    "def length_encode(seq: NDArray) -> Iterator[tuple[bool, int]]:\n",
    "    last, counter = next(seq.flat), 1\n",
    "\n",
    "    for element in seq.flat:\n",
    "        if last == element:\n",
    "            counter += 1\n",
    "        else:\n",
    "            yield last, counter\n",
    "            last, counter = element, 1\n",
    "    \n",
    "    yield last, counter\n",
    "\n",
    "\n",
    "', '.join(map(lambda x: str(x[1]), length_encode(edges_vertical > .5)))"
   ]
  },
  {
   "cell_type": "code",
   "execution_count": null,
   "metadata": {},
   "outputs": [],
   "source": [
    "def get_edge_length(seq: Iterator[tuple[bool, int]]) -> int:\n",
    "    last_padding = 0\n",
    "    last_length = -1\n",
    "    min_length = -1\n",
    "\n",
    "    for value, length in seq:\n",
    "        if value and last_length != -1:\n",
    "            padding = length // 2\n",
    "            edge_length = last_length + last_padding + padding\n",
    "            if edge_length < min_length and edge_length > longest_gap:\n",
    "                min_length = edge_length\n",
    "\n",
    "            last_padding = length - padding\n",
    "            last_length = -1\n",
    "\n",
    "        elif value:\n",
    "            last_padding = length\n",
    "\n",
    "        else:\n",
    "            last_length = length\n",
    "\n",
    "    if last_length != -1:\n",
    "        edge_length = last_padding + last_length\n",
    "        \n",
    "        if edge_length < min_length and edge_length > longest_gap:\n",
    "            min_length = edge_length\n",
    "    \n",
    "    return edge_length\n",
    "\n",
    "\n",
    "cell_rows = get_edge_length(length_encode(edges_vertical > .5))\n",
    "cell_columns = get_edge_length(length_encode(edges_horizontal > .5))\n",
    "\n",
    "cell_rows, cell_columns"
   ]
  },
  {
   "cell_type": "code",
   "execution_count": null,
   "metadata": {},
   "outputs": [],
   "source": [
    "rows = int(image.shape[0] / cell_rows + .5)\n",
    "columns = int(image.shape[1] / cell_columns + .5)\n",
    "\n",
    "rows, columns"
   ]
  }
 ],
 "metadata": {
  "kernelspec": {
   "display_name": ".venv",
   "language": "python",
   "name": "python3"
  },
  "language_info": {
   "codemirror_mode": {
    "name": "ipython",
    "version": 3
   },
   "file_extension": ".py",
   "mimetype": "text/x-python",
   "name": "python",
   "nbconvert_exporter": "python",
   "pygments_lexer": "ipython3",
   "version": "3.11.3"
  }
 },
 "nbformat": 4,
 "nbformat_minor": 2
}
